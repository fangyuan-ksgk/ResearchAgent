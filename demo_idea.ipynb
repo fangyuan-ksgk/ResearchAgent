{
 "cells": [
  {
   "cell_type": "markdown",
   "metadata": {},
   "source": [
    "#### Idea \n",
    "* Generate\n",
    "* Feedback \n",
    "* Re-generate"
   ]
  },
  {
   "cell_type": "code",
   "execution_count": 1,
   "metadata": {},
   "outputs": [],
   "source": [
    "from src.idea import Idea, IdeaPrompt\n",
    "from src.model import ClaudeModel, OpenAIModel\n",
    "\n",
    "context = IdeaPrompt.format(context=\"I am sick, what medicine do I take?\", feedback=\"Be funny\")\n",
    "idea = Idea.make(context=context)\n"
   ]
  },
  {
   "cell_type": "code",
   "execution_count": 2,
   "metadata": {},
   "outputs": [
    {
     "name": "stdout",
     "output_type": "stream",
     "text": [
      "Available options:\n",
      "1. Take a spoonful of laughter, it's the best medicine!\n",
      "2. You need a dose of dad jokes, guaranteed to make you groan and feel better.\n",
      "3. Try a pun-atic medication, it'll have you rolling on the floor with laughter.\n",
      "4. A funny movie marathon is the perfect prescription for your sickness.\n",
      "5. Hire a clown to do a stand-up routine in your living room. Laughter is contagious!\n",
      "Liked option 1\n",
      "Edited option 2 to: Try a dose of humor, but consult your doctor for actual medical advice!\n",
      "Added feedback: Laughter doesn't cure diabetes the last time I check\n",
      "\n",
      "Updated options:\n",
      "1. Take a spoonful of laughter, it's the best medicine! - Liked\n",
      "2. Try a dose of humor, but consult your doctor for actual medical advice! - Not liked\n",
      "3. Try a pun-atic medication, it'll have you rolling on the floor with laughter. - Not liked\n",
      "4. A funny movie marathon is the perfect prescription for your sickness. - Not liked\n",
      "5. Hire a clown to do a stand-up routine in your living room. Laughter is contagious! - Not liked\n",
      "\n",
      "Current feedback: Laughter doesn't cure diabetes the last time I check\n"
     ]
    }
   ],
   "source": [
    "# Present Options\n",
    "print(\"Available options:\")\n",
    "for i, option in enumerate(idea.options):\n",
    "    print(f\"{i + 1}. {option}\")\n",
    "\n",
    "# Like & Dislike \n",
    "idea.like(0)\n",
    "print(\"Liked option 1\")\n",
    "\n",
    "# Edit\n",
    "new_option = \"Try a dose of humor, but consult your doctor for actual medical advice!\"\n",
    "idea.edit(1, new_option)\n",
    "print(f\"Edited option 2 to: {new_option}\")\n",
    "\n",
    "# Add Feedback\n",
    "feedback = \"Laughter doesn't cure diabetes the last time I check\"\n",
    "idea.add_feedback(feedback)\n",
    "print(f\"Added feedback: {feedback}\")\n",
    "\n",
    "# Display updated options and preferences\n",
    "print(\"\\nUpdated options:\")\n",
    "for i, option in enumerate(idea.options):\n",
    "    status = \"Liked\" if idea.preferences[i] else \"Not liked\"\n",
    "    print(f\"{i + 1}. {option} - {status}\")\n",
    "\n",
    "print(f\"\\nCurrent feedback: {idea.feedback}\")\n"
   ]
  },
  {
   "cell_type": "code",
   "execution_count": 3,
   "metadata": {},
   "outputs": [],
   "source": [
    "idea.regenerate()"
   ]
  },
  {
   "cell_type": "code",
   "execution_count": 4,
   "metadata": {},
   "outputs": [
    {
     "name": "stdout",
     "output_type": "stream",
     "text": [
      "Available options:\n",
      "1. Drink a bottle of soda pop - the fizz will cure what fizz you!\n",
      "2. Take two aspirins and call me in the morning... if you can still dial a phone.\n",
      "3. Try a handful of jellybeans. The sugar rush might just give you a second wind!\n",
      "4. Have you tried turning yourself off and back on again? Rebooting might fix the bug.\n",
      "5. I prescribe a heavy dose of dad jokes. Laughter really is the best medicine, even for diabetes!\n"
     ]
    }
   ],
   "source": [
    "# Present Options\n",
    "print(\"Available options:\")\n",
    "for i, option in enumerate(idea.options):\n",
    "    print(f\"{i + 1}. {option}\")"
   ]
  },
  {
   "cell_type": "code",
   "execution_count": null,
   "metadata": {},
   "outputs": [],
   "source": []
  },
  {
   "cell_type": "code",
   "execution_count": null,
   "metadata": {},
   "outputs": [],
   "source": []
  }
 ],
 "metadata": {
  "kernelspec": {
   "display_name": "Python 3",
   "language": "python",
   "name": "python3"
  },
  "language_info": {
   "codemirror_mode": {
    "name": "ipython",
    "version": 3
   },
   "file_extension": ".py",
   "mimetype": "text/x-python",
   "name": "python",
   "nbconvert_exporter": "python",
   "pygments_lexer": "ipython3",
   "version": "3.11.5"
  }
 },
 "nbformat": 4,
 "nbformat_minor": 2
}
